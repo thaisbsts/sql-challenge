{
 "cells": [
  {
   "cell_type": "markdown",
   "metadata": {
    "application/vnd.databricks.v1+cell": {
     "cellMetadata": {},
     "inputWidgets": {},
     "nuid": "1d83ee48-903d-46d8-bb32-ed293970c4b3",
     "showTitle": false,
     "tableResultSettingsMap": {},
     "title": ""
    }
   },
   "source": []
  },
  {
   "cell_type": "markdown",
   "metadata": {
    "application/vnd.databricks.v1+cell": {
     "cellMetadata": {},
     "inputWidgets": {},
     "nuid": "1e867fdc-b004-49b5-9d80-0cc302788285",
     "showTitle": false,
     "tableResultSettingsMap": {},
     "title": ""
    }
   },
   "source": [
    "### Imports"
   ]
  },
  {
   "cell_type": "code",
   "execution_count": 0,
   "metadata": {
    "application/vnd.databricks.v1+cell": {
     "cellMetadata": {
      "byteLimit": 2048000,
      "rowLimit": 10000
     },
     "inputWidgets": {},
     "nuid": "e4da2a94-1e7d-44db-bd5b-00baba980377",
     "showTitle": false,
     "tableResultSettingsMap": {},
     "title": ""
    }
   },
   "outputs": [],
   "source": [
    "# Módulo no PySpark que fornece classes para definir os tipos de dados das colunas de um DataFrame\n",
    "from pyspark.sql.types import StructType, StructField, IntegerType, StringType, DateType, DoubleType\n",
    "\n",
    "#  Função que converte uma coluna de string em um tipo de dado DateType\n",
    "from pyspark.sql.functions import to_date\n",
    "\n",
    "# Fornece uma interface para definir janelas de agregação ou funções\n",
    "from pyspark.sql.window import Window\n",
    "\n",
    "# Importa todas as funções disponíveis no módulo e as renomeia como F, facilitando o acesso a funções como sum() e avg()\n",
    "from pyspark.sql import functions as F\n",
    "\n",
    "# Importa a função dayofmonth (que extrai o dia do mês a partir de uma data/timestamp e col (que cria uma coluna a partir de uma expressão, utilizada para fazer referência a colunas de um DataFrame em operações)\n",
    "from pyspark.sql.functions import dayofmonth, col\n",
    "\n",
    "# Módulo que fornece classes para manipulação de data e hora em Python\n",
    "from datetime import datetime"
   ]
  },
  {
   "cell_type": "markdown",
   "metadata": {
    "application/vnd.databricks.v1+cell": {
     "cellMetadata": {},
     "inputWidgets": {},
     "nuid": "83f3c265-65f2-4ded-96c2-87f05e793179",
     "showTitle": false,
     "tableResultSettingsMap": {},
     "title": ""
    }
   },
   "source": [
    "### Criação das tabelas"
   ]
  },
  {
   "cell_type": "code",
   "execution_count": 0,
   "metadata": {
    "application/vnd.databricks.v1+cell": {
     "cellMetadata": {
      "byteLimit": 2048000,
      "rowLimit": 10000
     },
     "inputWidgets": {},
     "nuid": "9367e24d-e41b-4e72-9ef9-66b3eaeae956",
     "showTitle": false,
     "tableResultSettingsMap": {},
     "title": ""
    }
   },
   "outputs": [],
   "source": [
    "# Definindo os esquemas paras os DataFrames\n",
    "# StructType é um tipo de estrutura que contém uma lista de campos (colunas).\n",
    "# StructField define cada campo.\n",
    "\n",
    "schema_clientes = StructType([\n",
    "    StructField(\"CD_CLIENTE \", IntegerType(), True),\n",
    "    StructField(\"NM_CLIENTE \", StringType(), True)\n",
    "])\n",
    "\n",
    "schema_transacoes = StructType([\n",
    "    StructField(\"CD_CLIENTE\", IntegerType(), False),\n",
    "    StructField(\"DT_TRANSACAO\", StringType(), False),  # Vou converter para Data mais para frente!\n",
    "    StructField(\"CD_TRANSACAO\", StringType(), False),\n",
    "    StructField(\"VR_TRANSACAO\", DoubleType(), False)\n",
    "])\n",
    "\n",
    "# \n",
    "# Tabela de Clientes (TbCliente)\n",
    "clientes = [\n",
    "    (1, \"João\"),\n",
    "    (2, \"Maria\"),\n",
    "    (3, \"José\"),\n",
    "    (4, \"Adilson\"),\n",
    "    (5, \"Cleber\")\n",
    "]\n",
    "\n",
    "# Tabela de Transações (TbTransacoes)\n",
    "transacoes = [\n",
    "    (1, \"2021-08-28\", \"000\", 20.00),\n",
    "    (1, \"2021-09-09\", \"110\", 78.90),\n",
    "    (1, \"2021-09-17\", \"220\", 58.00),\n",
    "    (1, \"2021-11-15\", \"110\", 178.90),\n",
    "    (1, \"2021-12-24\", \"220\", 110.37),\n",
    "    (5, \"2021-10-28\", \"110\", 220.00),\n",
    "    (5, \"2021-11-07\", \"110\", 380.00),\n",
    "    (5, \"2021-12-05\", \"220\", 398.86),\n",
    "    (5, \"2021-12-14\", \"220\", 33.90),\n",
    "    (5, \"2021-12-21\", \"220\", 16.90),\n",
    "    (3, \"2021-10-05\", \"110\", 720.90),\n",
    "    (3, \"2021-11-05\", \"110\", 720.90),\n",
    "    (3, \"2021-12-05\", \"110\", 720.90),\n",
    "    (4, \"2021-10-09\", \"000\", 50.00)\n",
    "]\n",
    "\n",
    "# Criando os DataFrames através dos esquemas e dos dados\n",
    "df_clientes = spark.createDataFrame(clientes, schema_clientes)\n",
    "df_transacoes = spark.createDataFrame(transacoes, schema_transacoes)\n",
    "\n",
    "# Convertendo DT_TRANSACAO para DateType(), já que PySpark não converte automaticamente strings para datas.\n",
    "df_transacoes = df_transacoes.withColumn(\"DT_TRANSACAO\", to_date(df_transacoes[\"DT_TRANSACAO\"], \"yyyy-MM-dd\"))\n"
   ]
  },
  {
   "cell_type": "markdown",
   "metadata": {
    "application/vnd.databricks.v1+cell": {
     "cellMetadata": {},
     "inputWidgets": {},
     "nuid": "b69f88e1-09e2-410f-827c-87cac00f0b1d",
     "showTitle": false,
     "tableResultSettingsMap": {},
     "title": ""
    }
   },
   "source": [
    "### 01. Qual cliente teve o maior saldo médio no mês 11? "
   ]
  },
  {
   "cell_type": "code",
   "execution_count": 0,
   "metadata": {
    "application/vnd.databricks.v1+cell": {
     "cellMetadata": {},
     "inputWidgets": {},
     "nuid": "02f7981f-2a0a-41e2-b439-f0dc41567fdd",
     "showTitle": false,
     "tableResultSettingsMap": {},
     "title": ""
    }
   },
   "outputs": [],
   "source": [
    "'''\n",
    "Vou considerar que o cálculo do saldo médio de um saldo bancário é o resultado da soma dos saldos diários dividido pelo número de dias de observação. Como não há informações quanto ao saldo e apenas quanto aos valores de transação, vou considerar que todos começaram com um saldo de R$0,00.\n",
    "'''"
   ]
  },
  {
   "cell_type": "code",
   "execution_count": 0,
   "metadata": {
    "application/vnd.databricks.v1+cell": {
     "cellMetadata": {
      "byteLimit": 2048000,
      "rowLimit": 10000
     },
     "inputWidgets": {},
     "nuid": "80ce4caa-f48d-4c28-b42b-4d649cb60ca6",
     "showTitle": false,
     "tableResultSettingsMap": {},
     "title": ""
    }
   },
   "outputs": [],
   "source": [
    "# Criando a coluna 'VR_AJUSTADO' para determinar, através dos códigos, quais valores serão acrescentados ou diminuidos\n",
    "# Estrutura: F.when(condição, valor) | Ou seja: quanto acontecer x, faça y\n",
    "df_transacoes = df_transacoes.withColumn(\n",
    "    \"VR_AJUSTADO\", \n",
    "    F.when(df_transacoes.CD_TRANSACAO == \"000\", df_transacoes.VR_TRANSACAO)\n",
    "    .when(df_transacoes.CD_TRANSACAO == \"110\", df_transacoes.VR_TRANSACAO)\n",
    "    .when(df_transacoes.CD_TRANSACAO == \"220\", -df_transacoes.VR_TRANSACAO)\n",
    "    .otherwise(0)  # Caso algum valor não seja 000, 110 ou 220, assume 0\n",
    ")\n",
    "\n",
    "# Criando a coluna 'SALDO_ACUMULADO' que vai somar os valores de 'VR_AJUSTADO' com base na janela.\n",
    "# A janela define que a soma acumulada será calculada separadamente para cada 'CD_CLIENTE'. Além disso, dentro de cada 'CD_CLIENTE', a soma será acumulada de acordo com a ordenação da coluna 'DT_TRANSACAO'. A soma será acumulada desde o começo até a transação atual.\n",
    "df_transacoes = df_transacoes.withColumn(\n",
    "    \"SALDO_ACUMULADO\",\n",
    "    F.sum(\"VR_AJUSTADO\").over(Window.partitionBy(\"CD_CLIENTE\").orderBy(\"DT_TRANSACAO\").rowsBetween(Window.unboundedPreceding, Window.currentRow))\n",
    ")"
   ]
  },
  {
   "cell_type": "code",
   "execution_count": 0,
   "metadata": {
    "application/vnd.databricks.v1+cell": {
     "cellMetadata": {
      "byteLimit": 2048000,
      "rowLimit": 10000
     },
     "inputWidgets": {},
     "nuid": "46a880cd-9876-4c54-8717-80cebc1ab249",
     "showTitle": false,
     "tableResultSettingsMap": {},
     "title": ""
    }
   },
   "outputs": [
    {
     "output_type": "stream",
     "name": "stdout",
     "output_type": "stream",
     "text": [
      "+----------+------------+------------+------------+-----------+------------------+\n|CD_CLIENTE|DT_TRANSACAO|CD_TRANSACAO|VR_TRANSACAO|VR_AJUSTADO|   SALDO_ACUMULADO|\n+----------+------------+------------+------------+-----------+------------------+\n|         1|  2021-08-28|         000|        20.0|       20.0|              20.0|\n|         1|  2021-09-09|         110|        78.9|       78.9|              98.9|\n|         1|  2021-09-17|         220|        58.0|      -58.0|40.900000000000006|\n|         1|  2021-11-15|         110|       178.9|      178.9|             219.8|\n|         1|  2021-12-24|         220|      110.37|    -110.37|            109.43|\n|         3|  2021-10-05|         110|       720.9|      720.9|             720.9|\n|         3|  2021-11-05|         110|       720.9|      720.9|            1441.8|\n|         3|  2021-12-05|         110|       720.9|      720.9|            2162.7|\n|         4|  2021-10-09|         000|        50.0|       50.0|              50.0|\n|         5|  2021-10-28|         110|       220.0|      220.0|             220.0|\n|         5|  2021-11-07|         110|       380.0|      380.0|             600.0|\n|         5|  2021-12-05|         220|      398.86|    -398.86|            201.14|\n|         5|  2021-12-14|         220|        33.9|      -33.9|167.23999999999998|\n|         5|  2021-12-21|         220|        16.9|      -16.9|150.33999999999997|\n+----------+------------+------------+------------+-----------+------------------+\n\n"
     ]
    }
   ],
   "source": [
    "# Printando o DataFrame para visualização das alterações:\n",
    "df_transacoes.show()"
   ]
  },
  {
   "cell_type": "code",
   "execution_count": 0,
   "metadata": {
    "application/vnd.databricks.v1+cell": {
     "cellMetadata": {
      "byteLimit": 2048000,
      "rowLimit": 10000
     },
     "inputWidgets": {},
     "nuid": "113e5ef2-1261-4182-be4a-e16a25a9e525",
     "showTitle": false,
     "tableResultSettingsMap": {},
     "title": ""
    }
   },
   "outputs": [
    {
     "output_type": "stream",
     "name": "stdout",
     "output_type": "stream",
     "text": [
      "+--------------------+\n|NUMERO_DE_TRANSACOES|\n+--------------------+\n|                   1|\n+--------------------+\n\n"
     ]
    }
   ],
   "source": [
    "# Explorando o DataFrame, é possível perceber que cada usuário tem apenas uma transação em novembro:\n",
    "november_data = df_transacoes.filter((col(\"DT_TRANSACAO\") >= \"2021-11-01\") & (col(\"DT_TRANSACAO\") <= \"2021-11-30\"))\n",
    "df_transacoes_count = november_data.groupBy(\"CD_CLIENTE\").agg(\n",
    "    F.count(\"CD_TRANSACAO\").alias(\"NUMERO_DE_TRANSACOES\")\n",
    ")\n",
    "\n",
    "df_transacoes_unique = df_transacoes_count.select(\"NUMERO_DE_TRANSACOES\").distinct()\n",
    "\n",
    "df_transacoes_unique.show()\n",
    "\n",
    "# Com base nisso, eu vou fazer o cálculo do saldo médio em novembro dividindo o mês em dois.\n"
   ]
  },
  {
   "cell_type": "code",
   "execution_count": 0,
   "metadata": {
    "application/vnd.databricks.v1+cell": {
     "cellMetadata": {
      "byteLimit": 2048000,
      "rowLimit": 10000
     },
     "inputWidgets": {},
     "nuid": "d282d72c-b7d2-474b-923e-b2b0a354c6a5",
     "showTitle": false,
     "tableResultSettingsMap": {},
     "title": ""
    }
   },
   "outputs": [],
   "source": [
    "# Selecionando apenas os IDs únicos\n",
    "# Eu transformo para RDD para usar o método flatMap, uma operação disponível apenas para RDDs no Spark e assim eu consigo transformar cada linha (que é uma tupla) de volta para o valor da coluna. Ou seja, cada linha do RDD vai gerar um único valor do tipo CD_CLIENTE em vez de uma lista ou tupla de valores.\n",
    "ids = df_transacoes.select(\"CD_CLIENTE\").distinct().rdd.flatMap(lambda x: x).collect()"
   ]
  },
  {
   "cell_type": "code",
   "execution_count": 0,
   "metadata": {
    "application/vnd.databricks.v1+cell": {
     "cellMetadata": {
      "byteLimit": 2048000,
      "rowLimit": 10000
     },
     "inputWidgets": {},
     "nuid": "745b8494-1968-44f5-b76d-6eed9f919c41",
     "showTitle": false,
     "tableResultSettingsMap": {},
     "title": ""
    }
   },
   "outputs": [],
   "source": [
    "# Definindo um dicionário para armazenar o saldo médio de cada cliente\n",
    "resultados = {}\n",
    "\n",
    "for id in ids: # filtrando apenas as transações de novembro do usuário em questão\n",
    "    transacoes_novembro = df_transacoes.filter(\n",
    "        (col(\"DT_TRANSACAO\") >= \"2021-11-01\") & \n",
    "        (col(\"DT_TRANSACAO\") <= \"2021-11-30\") &\n",
    "        (col(\"CD_CLIENTE\") == id)\n",
    "    )\n",
    "\n",
    "    if transacoes_novembro.count() > 0: # Se tiver alguma transação em novembro, eu armazeno a data\n",
    "        data_transacao_novembro = transacoes_novembro.select(\"DT_TRANSACAO\").first()[0]\n",
    "\n",
    "        # Pego a última transação antes da de novembro\n",
    "        transacao_anterior = df_transacoes.filter(\n",
    "            (col(\"DT_TRANSACAO\") < data_transacao_novembro) & \n",
    "            (col(\"CD_CLIENTE\") == id)\n",
    "        )\n",
    "\n",
    "        # Pego a data da última transação antes da de novembro\n",
    "        data_transacao_anterior = transacao_anterior.select(\"DT_TRANSACAO\").agg(F.last(\"DT_TRANSACAO\")).collect()[0][0]\n",
    "\n",
    "        # Pego o saldo do usuário a partir da transação que aconteceu no mês\n",
    "        saldo_novembro = transacoes_novembro.select(\"SALDO_ACUMULADO\").first()[0]\n",
    "\n",
    "        # Pego o saldo do usuário quando ele \"entrou\" em novembro\n",
    "        saldo_anterior = df_transacoes.filter(\n",
    "            (col(\"DT_TRANSACAO\") == data_transacao_anterior)\n",
    "        ).select(\"SALDO_ACUMULADO\").first()[0]\n",
    "\n",
    "        # Multiplico o saldo com o qual o usuário \"entrou\" em novembro pelos dias até que a transação ocorreu\n",
    "        # Multiplico o saldo a partir da transação pelos dias restantes até o fim de novembro \n",
    "        # Divido pelo número total de dias em novembro\n",
    "        valor = (((data_transacao_novembro.day + 1) * saldo_novembro) + ((data_transacao_novembro.day - 1) * saldo_anterior))/30\n",
    "        resultados[id] = valor # Atribuo o resultado ao ID do usuário\n",
    "    else: # Se não tem transação em novembro, o saldo médio será aquele a partir da última transação antes de novembro\n",
    "        ultima_transacao_anterior_a_novembro = df_transacoes.filter(\n",
    "            (col(\"DT_TRANSACAO\") < \"2021-11-01\") & \n",
    "            (col(\"CD_CLIENTE\") == id)\n",
    "        ).orderBy(col(\"DT_TRANSACAO\").desc()).first()\n",
    "\n",
    "        valor = ultima_transacao_anterior_a_novembro[\"SALDO_ACUMULADO\"]\n",
    "        resultados[id] = valor\n",
    "\n"
   ]
  },
  {
   "cell_type": "code",
   "execution_count": 0,
   "metadata": {
    "application/vnd.databricks.v1+cell": {
     "cellMetadata": {
      "byteLimit": 2048000,
      "rowLimit": 10000
     },
     "collapsed": true,
     "inputWidgets": {},
     "nuid": "d95d13bb-82d3-42e4-b59c-8d879aa4d430",
     "showTitle": false,
     "tableResultSettingsMap": {},
     "title": ""
    }
   },
   "outputs": [
    {
     "output_type": "stream",
     "name": "stdout",
     "output_type": "stream",
     "text": [
      "{1: 136.31333333333336, 5: 204.0, 3: 384.47999999999996, 4: 50.0}\n"
     ]
    }
   ],
   "source": [
    "# Visualizando os resultados de cada cliente:\n",
    "print(resultados)"
   ]
  },
  {
   "cell_type": "code",
   "execution_count": 0,
   "metadata": {
    "application/vnd.databricks.v1+cell": {
     "cellMetadata": {
      "byteLimit": 2048000,
      "rowLimit": 10000
     },
     "inputWidgets": {},
     "nuid": "079f63ef-ac27-4071-aa8a-7dcd2cd4331b",
     "showTitle": false,
     "tableResultSettingsMap": {},
     "title": ""
    }
   },
   "outputs": [
    {
     "output_type": "stream",
     "name": "stdout",
     "output_type": "stream",
     "text": [
      "O cliente com maior saldo médio em novembro é o José com R$384.47999999999996!\n"
     ]
    }
   ],
   "source": [
    "# Imprimindo o resultado!\n",
    "maior_saldo = max(resultados.values()) \n",
    "id_maior_saldo = max(resultados, key=resultados.get)\n",
    "nome_maior_saldo = df_clientes.filter(\n",
    "    (col(\"CD_CLIENTE \") == id_maior_saldo)\n",
    ").select(\"NM_CLIENTE \").first()\n",
    "\n",
    "print(f'O cliente com maior saldo médio em novembro é o {nome_maior_saldo[0]} com R${maior_saldo}!')"
   ]
  },
  {
   "cell_type": "markdown",
   "metadata": {
    "application/vnd.databricks.v1+cell": {
     "cellMetadata": {},
     "inputWidgets": {},
     "nuid": "f42e46cd-61ea-4d57-9a97-0a42ce01bdbf",
     "showTitle": false,
     "tableResultSettingsMap": {},
     "title": ""
    }
   },
   "source": [
    "### 02. Qual é o saldo de cada cliente?"
   ]
  },
  {
   "cell_type": "code",
   "execution_count": 0,
   "metadata": {
    "application/vnd.databricks.v1+cell": {
     "cellMetadata": {
      "byteLimit": 2048000,
      "rowLimit": 10000
     },
     "inputWidgets": {},
     "nuid": "28f51287-e1cf-42c2-8bb8-0119bf2aa15c",
     "showTitle": false,
     "tableResultSettingsMap": {},
     "title": ""
    }
   },
   "outputs": [
    {
     "output_type": "stream",
     "name": "stdout",
     "output_type": "stream",
     "text": [
      "+----------+--------------------+\n|CD_CLIENTE|LAST_SALDO_ACUMULADO|\n+----------+--------------------+\n|         1|              109.43|\n|         3|              2162.7|\n|         4|                50.0|\n|         5|  150.33999999999997|\n+----------+--------------------+\n\n"
     ]
    }
   ],
   "source": [
    "# Definindo a janela para cada cliente (ordenado pela data)\n",
    "window_spec = Window.partitionBy(\"CD_CLIENTE\").orderBy(F.col(\"DT_TRANSACAO\").desc())\n",
    "\n",
    "# Adicionando uma coluna com o último saldo acumulado de cada cliente\n",
    "df_last_saldo = df_transacoes.withColumn(\"LAST_SALDO_ACUMULADO\", F.first(\"SALDO_ACUMULADO\").over(window_spec))\n",
    "\n",
    "# Selecionando os últimos saldos acumulados por cliente\n",
    "df_last_saldo = df_last_saldo.select(\"CD_CLIENTE\", \"LAST_SALDO_ACUMULADO\").distinct()\n",
    "\n",
    "# Resultado:\n",
    "df_last_saldo.show()"
   ]
  },
  {
   "cell_type": "markdown",
   "metadata": {
    "application/vnd.databricks.v1+cell": {
     "cellMetadata": {},
     "inputWidgets": {},
     "nuid": "a601229a-fbf2-47ff-a4c3-ca3275994a92",
     "showTitle": false,
     "tableResultSettingsMap": {},
     "title": ""
    }
   },
   "source": [
    "### 03. Qual é o saldo médio de clientes que receberam CashBack?"
   ]
  },
  {
   "cell_type": "code",
   "execution_count": 0,
   "metadata": {
    "application/vnd.databricks.v1+cell": {
     "cellMetadata": {
      "byteLimit": 2048000,
      "rowLimit": 10000
     },
     "inputWidgets": {},
     "nuid": "8b7944c0-6115-4358-b6b4-1afccb2b8e59",
     "showTitle": false,
     "tableResultSettingsMap": {},
     "title": ""
    }
   },
   "outputs": [
    {
     "output_type": "stream",
     "name": "stdout",
     "output_type": "stream",
     "text": [
      "+----------+--------------------+\n|CD_CLIENTE|LAST_SALDO_ACUMULADO|\n+----------+--------------------+\n|         1|              109.43|\n|         4|                50.0|\n+----------+--------------------+\n\n"
     ]
    }
   ],
   "source": [
    "# Verificando quais clientes receberam cashback\n",
    "df_ids_cashback = df_transacoes.filter(\n",
    "    (col(\"CD_TRANSACAO\") == 000) \n",
    ").select(\"CD_CLIENTE\")\n",
    "\n",
    "# Selecionando apenas os ids e formando uma lista\n",
    "ids_cashback = df_ids_cashback.rdd.flatMap(lambda row: row).collect() \n",
    "\n",
    "# Filtrando apenas os saldos dos ids selecionados\n",
    "saldo_ids_cashback = df_last_saldo.filter(\n",
    "    (col(\"CD_CLIENTE\").isin(ids_cashback))\n",
    ")\n",
    "\n",
    "# Visualizar:\n",
    "saldo_ids_cashback.show()\n"
   ]
  },
  {
   "cell_type": "markdown",
   "metadata": {
    "application/vnd.databricks.v1+cell": {
     "cellMetadata": {},
     "inputWidgets": {},
     "nuid": "998d6cf4-525e-4e3b-84b5-56678eb5b82e",
     "showTitle": false,
     "tableResultSettingsMap": {},
     "title": ""
    }
   },
   "source": [
    "### 04. Qual o ticket médio das quatro últimas movimentações dos usuários?\n",
    "\n",
    "Normalmente o ticket médio é calculado com base em vendas, mas o enunciado diz para utilizar movimentações, então eu vou usar as transações Cash In, Out e Cashback."
   ]
  },
  {
   "cell_type": "code",
   "execution_count": 0,
   "metadata": {
    "application/vnd.databricks.v1+cell": {
     "cellMetadata": {
      "byteLimit": 2048000,
      "rowLimit": 10000
     },
     "inputWidgets": {},
     "nuid": "a2ae442a-eb30-4ef3-adcc-b52503b86b4a",
     "showTitle": false,
     "tableResultSettingsMap": {},
     "title": ""
    }
   },
   "outputs": [
    {
     "output_type": "stream",
     "name": "stdout",
     "output_type": "stream",
     "text": [
      "+----------+------------------+\n|CD_CLIENTE|      TICKET_MEDIO|\n+----------+------------------+\n|         1|106.54249999999999|\n|         3|             720.9|\n|         4|              50.0|\n|         5|207.41500000000002|\n+----------+------------------+\n\n"
     ]
    }
   ],
   "source": [
    "# Particionando os dados por CD_CLIENTE e ordenando as transações de cada cliente pela data da transação em ordem decrescente (transações mais recentes primeiro).\n",
    "window_spec = Window.partitionBy(\"CD_CLIENTE\").orderBy(F.col(\"DT_TRANSACAO\").desc())\n",
    "\n",
    "# Para cada CD_CLIENTE, as transações serão numeradas com base na data da transação, da mais recente para a mais antiga.\n",
    "df_ranked = df_transacoes.withColumn(\"rank\", F.row_number().over(window_spec))\n",
    "\n",
    "# Filtrando apenas as 4 últimas transações de cada cliente\n",
    "df_last_4 = df_ranked.filter(F.col(\"rank\") <= 4)\n",
    "\n",
    "# Calculando o ticket médio\n",
    "df_ticket_medio = df_last_4.groupBy(\"CD_CLIENTE\").agg(\n",
    "    F.sum(\"VR_TRANSACAO\").alias(\"SOMA_TRANSACOES\"),\n",
    "    F.count(\"VR_TRANSACAO\").alias(\"NUM_TRANSACOES\")  # Conta quantas transações cada cliente tem\n",
    ").withColumn(\n",
    "    \"TICKET_MEDIO\", F.col(\"SOMA_TRANSACOES\") / F.col(\"NUM_TRANSACOES\")  # Divide pelo número real de transações\n",
    ").select(\"CD_CLIENTE\", \"TICKET_MEDIO\")\n",
    "\n",
    "# Resultado\n",
    "df_ticket_medio.show()"
   ]
  },
  {
   "cell_type": "markdown",
   "metadata": {
    "application/vnd.databricks.v1+cell": {
     "cellMetadata": {},
     "inputWidgets": {},
     "nuid": "5d0897eb-ecd4-472e-9fc1-05ed970de7fe",
     "showTitle": false,
     "tableResultSettingsMap": {},
     "title": ""
    }
   },
   "source": [
    "### 05. Qual é a proporção entre Cash In/Out mensal?"
   ]
  },
  {
   "cell_type": "code",
   "execution_count": 0,
   "metadata": {
    "application/vnd.databricks.v1+cell": {
     "cellMetadata": {
      "byteLimit": 2048000,
      "rowLimit": 10000
     },
     "inputWidgets": {},
     "nuid": "392b532d-ff32-4185-81bc-caa932b4f7a5",
     "showTitle": false,
     "tableResultSettingsMap": {},
     "title": ""
    }
   },
   "outputs": [
    {
     "output_type": "stream",
     "name": "stdout",
     "output_type": "stream",
     "text": [
      "+-------+------------+-------------+------------------+------------------+-------------------+\n|ANO_MES|SOMA_CASH_IN|SOMA_CASH_OUT|             TOTAL|PERCENTUAL_CASH_IN|PERCENTUAL_CASH_OUT|\n+-------+------------+-------------+------------------+------------------+-------------------+\n|2021-09|        78.9|         58.0|             136.9| 57.63330898466034|  42.36669101533966|\n|2021-10|       940.9|          0.0|             940.9|             100.0|                0.0|\n|2021-11|      1279.8|          0.0|            1279.8|             100.0|                0.0|\n|2021-12|       720.9|       560.03|1280.9299999999998| 56.27942198246587|  43.72057801753414|\n+-------+------------+-------------+------------------+------------------+-------------------+\n\n"
     ]
    }
   ],
   "source": [
    "# Criando um novo DataFrame com uma coluna de mês\n",
    "df_transacoes_com_mes = df_transacoes.withColumn(\"ANO_MES\", F.date_format(\"DT_TRANSACAO\", \"yyyy-MM\"))\n",
    "\n",
    "df_cash_in = df_transacoes_com_mes.filter(col(\"CD_TRANSACAO\") == 110) # Todas as transações de Cash In\n",
    "df_cash_out = df_transacoes_com_mes.filter(col(\"CD_TRANSACAO\") == 220) # Todas as transações de Cash Out\n",
    "\n",
    "# Agrupando por mês e calcular a soma de cada categoria\n",
    "df_soma_cash_in = df_cash_in.groupBy(\"ANO_MES\").agg(F.sum(\"VR_TRANSACAO\").alias(\"SOMA_CASH_IN\"))\n",
    "df_soma_cash_out = df_cash_out.groupBy(\"ANO_MES\").agg(F.sum(\"VR_TRANSACAO\").alias(\"SOMA_CASH_OUT\"))\n",
    "\n",
    "# Juntando os dois DataFrames pelo mês\n",
    "df_resultado = df_soma_cash_in.join(df_soma_cash_out, \"ANO_MES\", \"outer\")\n",
    "\n",
    "# Calculando o total por mês\n",
    "df_resultado = df_resultado.withColumn(\n",
    "    \"TOTAL\", F.coalesce(col(\"SOMA_CASH_IN\"), F.lit(0)) + F.coalesce(col(\"SOMA_CASH_OUT\"), F.lit(0))\n",
    ")\n",
    "\n",
    "# Calculando o percentual de cada categoria no mês\n",
    "df_resultado = df_resultado.withColumn(\n",
    "    \"PERCENTUAL_CASH_IN\",\n",
    "    (F.col(\"SOMA_CASH_IN\") / F.col(\"TOTAL\") * 100).cast(\"double\")\n",
    ").withColumn(\n",
    "    \"PERCENTUAL_CASH_OUT\",\n",
    "    (F.col(\"SOMA_CASH_OUT\") / F.col(\"TOTAL\") * 100).cast(\"double\")\n",
    ")\n",
    "\n",
    "# Substituir valores nulos por 0, se tiver\n",
    "df_resultado = df_resultado.fillna(0)\n",
    "\n",
    "# Mostrar o resultado\n",
    "df_resultado.show()"
   ]
  },
  {
   "cell_type": "markdown",
   "metadata": {
    "application/vnd.databricks.v1+cell": {
     "cellMetadata": {},
     "inputWidgets": {},
     "nuid": "d3fb7235-4b5c-439c-933a-067cb708e7c6",
     "showTitle": false,
     "tableResultSettingsMap": {},
     "title": ""
    }
   },
   "source": [
    "### 06. Qual a última transação de cada tipo para cada usuário?"
   ]
  },
  {
   "cell_type": "code",
   "execution_count": 0,
   "metadata": {
    "application/vnd.databricks.v1+cell": {
     "cellMetadata": {
      "byteLimit": 2048000,
      "rowLimit": 10000
     },
     "inputWidgets": {},
     "nuid": "4c750891-3413-4521-a6db-3e7be0a069d0",
     "showTitle": false,
     "tableResultSettingsMap": {},
     "title": ""
    }
   },
   "outputs": [
    {
     "output_type": "stream",
     "name": "stdout",
     "output_type": "stream",
     "text": [
      "+----------+------------+-------------------+----------------------+\n|CD_CLIENTE|CD_TRANSACAO|ULTIMA_DT_TRANSACAO|ULTIMO_VALOR_TRANSACAO|\n+----------+------------+-------------------+----------------------+\n|         1|         000|         2021-08-28|                  20.0|\n|         1|         110|         2021-11-15|                 178.9|\n|         1|         220|         2021-12-24|                110.37|\n|         5|         110|         2021-11-07|                 380.0|\n|         5|         220|         2021-12-21|                  16.9|\n|         3|         110|         2021-12-05|                 720.9|\n|         4|         000|         2021-10-09|                  50.0|\n+----------+------------+-------------------+----------------------+\n\n"
     ]
    }
   ],
   "source": [
    "\n",
    "# Agrupando as transações por cliente e código de transação.\n",
    "# Em seguida, obtém a última data e o último valor de transação dentro de cada grupo usando a função last().\n",
    "df_ultima_transacao = df_transacoes.groupBy(\"CD_CLIENTE\", \"CD_TRANSACAO\").agg(\n",
    "    F.last(\"DT_TRANSACAO\").alias(\"ULTIMA_DT_TRANSACAO\"),\n",
    "    F.last(\"VR_TRANSACAO\").alias(\"ULTIMO_VALOR_TRANSACAO\")\n",
    ")\n",
    "\n",
    "df_ultima_transacao.show()"
   ]
  },
  {
   "cell_type": "markdown",
   "metadata": {
    "application/vnd.databricks.v1+cell": {
     "cellMetadata": {},
     "inputWidgets": {},
     "nuid": "4a53048d-2c44-47d7-bb82-3978b44a8d3a",
     "showTitle": false,
     "tableResultSettingsMap": {},
     "title": ""
    }
   },
   "source": [
    "### 07. Qual a última transação de cada tipo para cada usuário por mês?"
   ]
  },
  {
   "cell_type": "code",
   "execution_count": 0,
   "metadata": {
    "application/vnd.databricks.v1+cell": {
     "cellMetadata": {
      "byteLimit": 2048000,
      "rowLimit": 10000
     },
     "inputWidgets": {},
     "nuid": "2d2f1633-f0ad-464e-8a8d-5750bbab58c3",
     "showTitle": false,
     "tableResultSettingsMap": {},
     "title": ""
    }
   },
   "outputs": [
    {
     "output_type": "stream",
     "name": "stdout",
     "output_type": "stream",
     "text": [
      "+----------+------------+-------+-------------------+----------------------+\n|CD_CLIENTE|CD_TRANSACAO|MES_ANO|ULTIMA_DT_TRANSACAO|ULTIMO_VALOR_TRANSACAO|\n+----------+------------+-------+-------------------+----------------------+\n|         1|         000|2021-08|         2021-08-28|                  20.0|\n|         1|         110|2021-09|         2021-09-09|                  78.9|\n|         1|         220|2021-09|         2021-09-17|                  58.0|\n|         1|         220|2021-12|         2021-12-24|                110.37|\n|         1|         110|2021-11|         2021-11-15|                 178.9|\n|         5|         110|2021-11|         2021-11-07|                 380.0|\n|         5|         110|2021-10|         2021-10-28|                 220.0|\n|         5|         220|2021-12|         2021-12-21|                  16.9|\n|         3|         110|2021-10|         2021-10-05|                 720.9|\n|         3|         110|2021-11|         2021-11-05|                 720.9|\n|         4|         000|2021-10|         2021-10-09|                  50.0|\n|         3|         110|2021-12|         2021-12-05|                 720.9|\n+----------+------------+-------+-------------------+----------------------+\n\n"
     ]
    }
   ],
   "source": [
    "# Criando uma nova coluna \"MES_ANO\" no DataFrame df_transacoes formatando a coluna \"DT_TRANSACAO\" para o formato \"yyyy-MM\", e depois agrupando os dados por cliente, transação e mês/ano para obter a última data e o último valor de transação em cada grupo.\n",
    "df_transacoes_mes = df_transacoes.withColumn(\"MES_ANO\", F.date_format(\"DT_TRANSACAO\", \"yyyy-MM\"))\n",
    "\n",
    "df_ultima_transacao_mes = df_transacoes_mes.groupBy(\"CD_CLIENTE\", \"CD_TRANSACAO\", \"MES_ANO\").agg(\n",
    "    F.last(\"DT_TRANSACAO\").alias(\"ULTIMA_DT_TRANSACAO\"),\n",
    "    F.last(\"VR_TRANSACAO\").alias(\"ULTIMO_VALOR_TRANSACAO\")\n",
    ")\n",
    "\n",
    "df_ultima_transacao_mes.show()\n"
   ]
  },
  {
   "cell_type": "markdown",
   "metadata": {
    "application/vnd.databricks.v1+cell": {
     "cellMetadata": {},
     "inputWidgets": {},
     "nuid": "361915a8-96cb-4a39-9de2-09ef4921bcb1",
     "showTitle": false,
     "tableResultSettingsMap": {},
     "title": ""
    }
   },
   "source": [
    "### 08. Qual quantidade de usuários que movimentaram a conta?"
   ]
  },
  {
   "cell_type": "code",
   "execution_count": 0,
   "metadata": {
    "application/vnd.databricks.v1+cell": {
     "cellMetadata": {
      "byteLimit": 2048000,
      "rowLimit": 10000
     },
     "inputWidgets": {},
     "nuid": "0a5cafae-ea11-414a-86b6-a2f8812ee8ce",
     "showTitle": false,
     "tableResultSettingsMap": {},
     "title": ""
    }
   },
   "outputs": [
    {
     "output_type": "stream",
     "name": "stdout",
     "output_type": "stream",
     "text": [
      "Quantidade de usuários que movimentaram a conta: 4\n"
     ]
    }
   ],
   "source": [
    "# Contando quantos ids distintos tem na taela de transações\n",
    "qtd_usuarios = df_transacoes.select(\"CD_CLIENTE\").distinct().count()\n",
    "\n",
    "print(f\"Quantidade de usuários que movimentaram a conta: {qtd_usuarios}\")\n"
   ]
  },
  {
   "cell_type": "markdown",
   "metadata": {
    "application/vnd.databricks.v1+cell": {
     "cellMetadata": {},
     "inputWidgets": {},
     "nuid": "d3284bd8-66b7-4390-b37d-0d94010f2024",
     "showTitle": false,
     "tableResultSettingsMap": {},
     "title": ""
    }
   },
   "source": [
    "### 09. Qual o balanço do final de 2021?\n",
    "\n",
    "Para esse cálculo, vou considerar com balanço  diferença entre entradas (cash-in + cashback) e saídas (cash-out)."
   ]
  },
  {
   "cell_type": "code",
   "execution_count": 0,
   "metadata": {
    "application/vnd.databricks.v1+cell": {
     "cellMetadata": {
      "byteLimit": 2048000,
      "rowLimit": 10000
     },
     "inputWidgets": {},
     "nuid": "3330b056-97ee-4ce8-9b4f-45a5479e9ac2",
     "showTitle": false,
     "tableResultSettingsMap": {},
     "title": ""
    }
   },
   "outputs": [
    {
     "output_type": "stream",
     "name": "stdout",
     "output_type": "stream",
     "text": [
      "O balanço é de R$2472.4700000000003!\n"
     ]
    }
   ],
   "source": [
    "# Somando cada categoria\n",
    "soma_cash_in = df_transacoes.filter(col(\"CD_TRANSACAO\") == 110).agg(F.sum(\"VR_TRANSACAO\")).collect()[0][0]\n",
    "soma_cash_out = df_transacoes.filter(col(\"CD_TRANSACAO\") == 220).agg(F.sum(\"VR_TRANSACAO\")).collect()[0][0]\n",
    "soma_cashback = df_transacoes.filter(col(\"CD_TRANSACAO\") == 000).agg(F.sum(\"VR_TRANSACAO\")).collect()[0][0]\n",
    "\n",
    "balanço = soma_cash_in + soma_cashback - soma_cash_out\n",
    "print(f\"O balanço é de R${balanço}!\")\n"
   ]
  },
  {
   "cell_type": "markdown",
   "metadata": {
    "application/vnd.databricks.v1+cell": {
     "cellMetadata": {},
     "inputWidgets": {},
     "nuid": "e8bd6736-2100-4e5e-836e-f567a02c8db8",
     "showTitle": false,
     "tableResultSettingsMap": {},
     "title": ""
    }
   },
   "source": [
    "### 10. Quantos usuários que receberam CashBack continuaram interagindo com este banco?"
   ]
  },
  {
   "cell_type": "code",
   "execution_count": 0,
   "metadata": {
    "application/vnd.databricks.v1+cell": {
     "cellMetadata": {
      "byteLimit": 2048000,
      "rowLimit": 10000
     },
     "inputWidgets": {},
     "nuid": "a908d580-8c25-4175-9954-cb5693a79efb",
     "showTitle": false,
     "tableResultSettingsMap": {},
     "title": ""
    }
   },
   "outputs": [
    {
     "output_type": "stream",
     "name": "stdout",
     "output_type": "stream",
     "text": [
      "Quantidade de usuários que continuaram interagindo após o cashback: 1\n"
     ]
    }
   ],
   "source": [
    "# Filtrando as transações de cashback \n",
    "cashback_transacoes = df_transacoes.filter(col(\"CD_TRANSACAO\") == 000)\n",
    "\n",
    "# Seleciona o CD_CLIENTE e a data da transação de cashback \n",
    "cashback_usuarios = cashback_transacoes.select(\"CD_CLIENTE\", \"DT_TRANSACAO\").distinct()\n",
    "\n",
    "# Para cada usuário que recebeu cashback, verifica se há transações posteriores\n",
    "usuarios_com_movimentacao_pos_cashback = cashback_usuarios.alias('cb').join(\n",
    "    df_transacoes.alias('dt'),\n",
    "    (col('cb.CD_CLIENTE') == col('dt.CD_CLIENTE')) & \n",
    "    (col('dt.DT_TRANSACAO') > col('cb.DT_TRANSACAO')),\n",
    "    how='inner'\n",
    ").select('cb.CD_CLIENTE').distinct()\n",
    "\n",
    "# Contabiliza quantos usuários tiveram transações após o cashback\n",
    "quantidade_usuarios = usuarios_com_movimentacao_pos_cashback.count()\n",
    "\n",
    "print(\"Quantidade de usuários que continuaram interagindo após o cashback:\", quantidade_usuarios)\n"
   ]
  },
  {
   "cell_type": "markdown",
   "metadata": {
    "application/vnd.databricks.v1+cell": {
     "cellMetadata": {},
     "inputWidgets": {},
     "nuid": "780395f9-10fc-4765-a898-357203f36ed8",
     "showTitle": false,
     "tableResultSettingsMap": {},
     "title": ""
    }
   },
   "source": [
    "### 11. Qual a primeira e a última movimentação dos usuários com saldo maior que R$100?\n"
   ]
  },
  {
   "cell_type": "code",
   "execution_count": 0,
   "metadata": {
    "application/vnd.databricks.v1+cell": {
     "cellMetadata": {
      "byteLimit": 2048000,
      "rowLimit": 10000
     },
     "inputWidgets": {},
     "nuid": "639ad5af-4fbc-4658-9347-8a1418526b17",
     "showTitle": false,
     "tableResultSettingsMap": {},
     "title": ""
    }
   },
   "outputs": [
    {
     "output_type": "stream",
     "name": "stdout",
     "output_type": "stream",
     "text": [
      "+----------+------------+------------+------------+-----------+------------------+----------+--------------+\n|CD_CLIENTE|DT_TRANSACAO|CD_TRANSACAO|VR_TRANSACAO|VR_AJUSTADO|   SALDO_ACUMULADO|CD_CLIENTE|TIPO_TRANSACAO|\n+----------+------------+------------+------------+-----------+------------------+----------+--------------+\n|         1|  2021-12-24|         220|      110.37|    -110.37|            109.43|         1|  Mais Recente|\n|         1|  2021-08-28|         000|        20.0|       20.0|              20.0|         1|   Mais Antiga|\n|         5|  2021-12-21|         220|        16.9|      -16.9|150.33999999999997|         5|  Mais Recente|\n|         5|  2021-10-28|         110|       220.0|      220.0|             220.0|         5|   Mais Antiga|\n|         3|  2021-12-05|         110|       720.9|      720.9|            2162.7|         3|  Mais Recente|\n|         3|  2021-10-05|         110|       720.9|      720.9|             720.9|         3|   Mais Antiga|\n+----------+------------+------------+------------+-----------+------------------+----------+--------------+\n\n"
     ]
    }
   ],
   "source": [
    "# Filtra os clientes com saldo maior que 100\n",
    "clientes_com_saldo_maior_que_100 = df_last_saldo.filter(df_last_saldo[\"LAST_SALDO_ACUMULADO\"] > 100)\n",
    "\n",
    "# Pega os IDs dos clientes\n",
    "ids_com_saldo_maior_que_100 = clientes_com_saldo_maior_que_100.select(\"CD_CLIENTE\").distinct()\n",
    "\n",
    "# Pega a transação mais antiga e mais recente de cada cliente\n",
    "transacoes_mais_antiga_mais_recente = df_transacoes.join(\n",
    "    ids_com_saldo_maior_que_100, \n",
    "    \"CD_CLIENTE\", \n",
    "    \"inner\"\n",
    ").groupBy(\"CD_CLIENTE\").agg(\n",
    "    F.min(\"DT_TRANSACAO\").alias(\"DATA_TRANSACAO_ANTIGA\"),\n",
    "    F.max(\"DT_TRANSACAO\").alias(\"DATA_TRANSACAO_RECENTE\")\n",
    ")\n",
    "\n",
    "# Coleta todas as informações da transação mais antiga e mais recente para cada cliente\n",
    "transacoes_completas = df_transacoes.join(\n",
    "    transacoes_mais_antiga_mais_recente,\n",
    "    (df_transacoes[\"CD_CLIENTE\"] == transacoes_mais_antiga_mais_recente[\"CD_CLIENTE\"]) &\n",
    "    ((df_transacoes[\"DT_TRANSACAO\"] == transacoes_mais_antiga_mais_recente[\"DATA_TRANSACAO_ANTIGA\"]) |\n",
    "     (df_transacoes[\"DT_TRANSACAO\"] == transacoes_mais_antiga_mais_recente[\"DATA_TRANSACAO_RECENTE\"])),\n",
    "    \"inner\"\n",
    ")\n",
    "\n",
    "# Adiciona uma coluna para indicar se a transação é a mais antiga ou mais recente\n",
    "transacoes_completas = transacoes_completas.withColumn(\n",
    "    \"TIPO_TRANSACAO\",\n",
    "    F.when(df_transacoes[\"DT_TRANSACAO\"] == transacoes_completas[\"DATA_TRANSACAO_ANTIGA\"], \"Mais Antiga\")\n",
    "     .when(df_transacoes[\"DT_TRANSACAO\"] == transacoes_completas[\"DATA_TRANSACAO_RECENTE\"], \"Mais Recente\")\n",
    "     .otherwise(\"Outro\")\n",
    ")\n",
    "\n",
    "# Remove as colunas extras\n",
    "transacoes_completas = transacoes_completas.drop(\"DATA_TRANSACAO_ANTIGA\", \"DATA_TRANSACAO_RECENTE\")\n",
    "\n",
    "# Exibe o resultado\n",
    "transacoes_completas.show()\n"
   ]
  },
  {
   "cell_type": "markdown",
   "metadata": {
    "application/vnd.databricks.v1+cell": {
     "cellMetadata": {},
     "inputWidgets": {},
     "nuid": "e5e928a8-532a-41bb-9044-61c8cbedb0cd",
     "showTitle": false,
     "tableResultSettingsMap": {},
     "title": ""
    }
   },
   "source": [
    "### 12. Qual o balanço das últimas quatro movimentações de cada usuário?\n"
   ]
  },
  {
   "cell_type": "code",
   "execution_count": 0,
   "metadata": {
    "application/vnd.databricks.v1+cell": {
     "cellMetadata": {
      "byteLimit": 2048000,
      "rowLimit": 10000
     },
     "inputWidgets": {},
     "nuid": "2e523099-6803-44bf-a5fb-2f234dd99ad0",
     "showTitle": false,
     "tableResultSettingsMap": {},
     "title": ""
    }
   },
   "outputs": [
    {
     "output_type": "stream",
     "name": "stdout",
     "output_type": "stream",
     "text": [
      "+----------+------------------+\n|CD_CLIENTE|BALANCO_ULTIMAS_4 |\n+----------+------------------+\n|1         |89.43             |\n|3         |2162.7            |\n|4         |50.0              |\n|5         |-69.66000000000003|\n+----------+------------------+\n\n"
     ]
    }
   ],
   "source": [
    "# Definir uma janela para cada cliente, ordenando pelas transações mais recentes\n",
    "windowSpec = Window.partitionBy(\"CD_CLIENTE\").orderBy(F.col(\"DT_TRANSACAO\").desc())\n",
    "\n",
    "# Selecionar as últimas 4 transações de cada cliente\n",
    "df_ultimas_4 = df_transacoes.withColumn(\"row_number\", F.row_number().over(windowSpec)) \\\n",
    "                            .filter(F.col(\"row_number\") <= 4)\n",
    "\n",
    "# Calcular o balanço (cash in + cashback - cashout)\n",
    "df_balanco = df_ultimas_4.withColumn(\n",
    "    \"BALANCO\",\n",
    "    F.when(F.col(\"CD_TRANSACAO\") == 110, F.col(\"VR_TRANSACAO\"))  # Cash in (110) - Somar\n",
    "    .when(F.col(\"CD_TRANSACAO\") == 220, -F.col(\"VR_TRANSACAO\"))  # Cashout (220) - Subtrair\n",
    "    .when(F.col(\"CD_TRANSACAO\") == 0, F.col(\"VR_TRANSACAO\"))   # Cashback (000) - Somar\n",
    "    .otherwise(0)  # Para outras transações, não afeta o balanço\n",
    ")\n",
    "\n",
    "# Agrupar por cliente e somar o saldo de todas as transações\n",
    "df_balanco_final = df_balanco.groupBy(\"CD_CLIENTE\").agg(\n",
    "    F.sum(\"BALANCO\").alias(\"BALANCO_ULTIMAS_4\")\n",
    ")\n",
    "\n",
    "# Exibir os resultados\n",
    "df_balanco_final.show(truncate=False)"
   ]
  }
 ],
 "metadata": {
  "application/vnd.databricks.v1+notebook": {
   "computePreferences": null,
   "dashboards": [],
   "environmentMetadata": {
    "base_environment": "",
    "client": "1"
   },
   "language": "python",
   "notebookMetadata": {
    "mostRecentlyExecutedCommandWithImplicitDF": {
     "commandId": 359633747294308,
     "dataframes": [
      "_sqldf"
     ]
    },
    "pythonIndentUnit": 4
   },
   "notebookName": "pyspark-querries",
   "widgets": {}
  }
 },
 "nbformat": 4,
 "nbformat_minor": 0
}
